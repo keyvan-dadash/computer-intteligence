{
  "nbformat": 4,
  "nbformat_minor": 0,
  "metadata": {
    "colab": {
      "name": "CI992_HW1.ipynb",
      "provenance": [],
      "collapsed_sections": [],
      "toc_visible": true
    },
    "kernelspec": {
      "display_name": "Python 3",
      "language": "python",
      "name": "python3"
    },
    "language_info": {
      "codemirror_mode": {
        "name": "ipython",
        "version": 3
      },
      "file_extension": ".py",
      "mimetype": "text/x-python",
      "name": "python",
      "nbconvert_exporter": "python",
      "pygments_lexer": "ipython3",
      "version": "3.8.7"
    }
  },
  "cells": [
    {
      "cell_type": "markdown",
      "metadata": {
        "id": "heBxPYfc0U22"
      },
      "source": [
        "# Your info\n",
        "\n",
        "Full name:\n",
        "\n",
        "Student ID:"
      ]
    },
    {
      "cell_type": "markdown",
      "metadata": {
        "id": "UBD007b3-ntJ"
      },
      "source": [
        "# Q1. Perceptron"
      ]
    },
    {
      "cell_type": "code",
      "metadata": {
        "id": "rld-5wsb1gZS"
      },
      "source": [
        "# Q1_graded\n",
        "# Do not change the above line.\n",
        "\n",
        "# This cell is for your imports.\n",
        "\n",
        "import numpy as np\n",
        "import matplotlib.pyplot as plt\n"
      ],
      "execution_count": null,
      "outputs": []
    },
    {
      "cell_type": "code",
      "metadata": {
        "id": "PKs23FTj_SI8"
      },
      "source": [
        "# Q1_graded\n",
        "# Do not change the above line.\n",
        "\n",
        "# This cell is for your codes.\n",
        "\n",
        "def predict(input_arr, weights):\n",
        "  activation = weights[0]\n",
        "  for i in range(len(input_arr) - 1):\n",
        "    activation += weights[i + 1] * input_arr[i]\n",
        "  \n",
        "  if activation >= 0.0:\n",
        "    return 1.0\n",
        "  return 0.0\n",
        "\n",
        "def start_train_weights(input_arr, learn_rate, iter_count):\n",
        "  weights = np.random.rand(len(input_arr[0]))\n",
        "\n",
        "  for i in range(iter_count):\n",
        "\n",
        "    for data in input_arr:\n",
        "      error = data[-1] - predict(data, weights)\n",
        "\n",
        "      vector = data.copy()\n",
        "      vector = [1] + vector[0:2]\n",
        "      # print(\"----------------------\")\n",
        "      # print(data)\n",
        "      # print(vector)\n",
        "      # print(\"----------------------\")\n",
        "      diff = np.dot(np.dot(vector, error), learn_rate)\n",
        "      weights += diff\n",
        "\n",
        "  return weights\n",
        "      \n",
        "def perceptron(test_data, train_data, learn_rate, iter_count):\n",
        "  weights = start_train_weights(train_data, learn_rate, iter_count)\n",
        "\n",
        "  result = []\n",
        "  for data in test_data:\n",
        "    result.append(predict(data, weights))\n",
        "  \n",
        "  return result"
      ],
      "execution_count": null,
      "outputs": []
    },
    {
      "cell_type": "code",
      "metadata": {
        "id": "g5ISMYZ7_S2X",
        "colab": {
          "base_uri": "https://localhost:8080/"
        },
        "outputId": "f9efd280-da4b-42e3-aa16-7f3a67335a8f"
      },
      "source": [
        "# Q1_graded\n",
        "# Do not change the above line.\n",
        "\n",
        "# This cell is for your codes.\n",
        "\n",
        "# test predictions\n",
        "train_dataset = [\n",
        "           [0, 0, 1],\n",
        "           [0, 1, 0],\n",
        "           [1, 0, 0],\n",
        "           [1, 1, 0]\n",
        "]\n",
        "\n",
        "test_dataset = [\n",
        "           [0, 0, 1],\n",
        "           [0, 1, 0]\n",
        "]\n",
        "\n",
        "result = perceptron(test_dataset, train_dataset, 0.6, 100)\n",
        "\n",
        "print(result)\n",
        "\n"
      ],
      "execution_count": null,
      "outputs": [
        {
          "output_type": "stream",
          "text": [
            "[1.0, 0.0]\n"
          ],
          "name": "stdout"
        }
      ]
    },
    {
      "cell_type": "markdown",
      "metadata": {
        "id": "VAAR47H8-5ML"
      },
      "source": [
        "# Q2. Binary Classification"
      ]
    },
    {
      "cell_type": "code",
      "metadata": {
        "id": "LV7Xa2Sx-6cV",
        "colab": {
          "resources": {
            "http://localhost:8080/nbextensions/google.colab/files.js": {
              "data": "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",
              "ok": true,
              "headers": [
                [
                  "content-type",
                  "application/javascript"
                ]
              ],
              "status": 200,
              "status_text": ""
            }
          },
          "base_uri": "https://localhost:8080/",
          "height": 72
        },
        "outputId": "d7a67fe4-bef2-484b-d793-7168dfc41c26"
      },
      "source": [
        "# Q2_graded\n",
        "# Do not change the above line.\n",
        "\n",
        "# This cell is for your imports.\n",
        "\n",
        "from itertools import repeat\n",
        "import numpy as np\n",
        "import matplotlib.pyplot as plt\n",
        "from google.colab import files\n",
        "data_to_load = files.upload()\n",
        "\n",
        "lines = data_to_load['data.txt'].decode() #data file name if you going to upload another data file you should change this name\n",
        "\n",
        "train_dataset = []\n",
        "\n",
        "lines = lines.split('\\n')\n",
        "for line in lines:\n",
        "  splitted_string = line.split(\",\")\n",
        "  if len(splitted_string) == 3:\n",
        "    train_dataset.append(list(map(float, splitted_string)))\n"
      ],
      "execution_count": null,
      "outputs": [
        {
          "output_type": "display_data",
          "data": {
            "text/html": [
              "\n",
              "     <input type=\"file\" id=\"files-b69ced22-c79b-48b3-8a31-3cc3df168d11\" name=\"files[]\" multiple disabled\n",
              "        style=\"border:none\" />\n",
              "     <output id=\"result-b69ced22-c79b-48b3-8a31-3cc3df168d11\">\n",
              "      Upload widget is only available when the cell has been executed in the\n",
              "      current browser session. Please rerun this cell to enable.\n",
              "      </output>\n",
              "      <script src=\"/nbextensions/google.colab/files.js\"></script> "
            ],
            "text/plain": [
              "<IPython.core.display.HTML object>"
            ]
          },
          "metadata": {
            "tags": []
          }
        },
        {
          "output_type": "stream",
          "text": [
            "Saving data.txt to data.txt\n"
          ],
          "name": "stdout"
        }
      ]
    },
    {
      "cell_type": "code",
      "metadata": {
        "id": "bMIDe8oc_TLW"
      },
      "source": [
        "# Q2_graded\n",
        "# Do not change the above line.\n",
        "\n",
        "# This cell is for your codes.\n",
        "\n",
        "\n",
        "def predict(input_arr, weights):\n",
        "  activation = weights[0]\n",
        "  for i in range(len(input_arr) - 1):\n",
        "    activation += weights[i + 1] * input_arr[i]\n",
        "  \n",
        "  if activation >= 0.0:\n",
        "    return 1.0, activation\n",
        "  return 0.0, activation\n",
        "\n",
        "# for i in range(len(input_arr)):\n",
        "    \n",
        "#     if input_arr[i][-1] == predict:\n",
        "#       correct += 1\n",
        "\n",
        "# def accuracy(input_arr, weights):\n",
        "# \tcorrect = 0\n",
        "\n",
        "#   for i in range(len(input_arr)):\n",
        "#     correct +=1\n",
        "    \n",
        "\n",
        "# \treturn correct / float(len(input_arr)) * 100.0\n",
        "\n",
        "\n",
        "\n",
        "def accuracy(input_arr, weights):\n",
        "  correct = 0\n",
        "  for i in range(len(input_arr)):\n",
        "    prediction, possible_error = predict(input_arr[i], weights)\n",
        "\n",
        "    if input_arr[i][-1] == prediction:\n",
        "      correct +=1\n",
        "\n",
        "  return correct / float(len(input_arr)) * 100.0\n",
        "\n",
        "def start_train_weights(input_arr, learn_rate, iter_count):\n",
        "  weights = np.random.rand(len(input_arr[0]))\n",
        "  accPerIter = []\n",
        "  errosPerIter = []\n",
        "\n",
        "  index = 0\n",
        "  for i in range(iter_count):\n",
        "    sum_error = 0\n",
        "\n",
        "    for data in input_arr:\n",
        "      prediction, possible_error = predict(data, weights)\n",
        "      if data[-1] != prediction:\n",
        "\n",
        "        error = data[-1] - prediction\n",
        "        sum_error += possible_error\n",
        "\n",
        "        vector = data.copy()\n",
        "        vector = [1] + vector[0:2]\n",
        "        diff = np.dot(np.dot(vector, error), learn_rate / (i + 1))\n",
        "        weights += diff\n",
        "\n",
        "    if error > 0.0:\n",
        "      errosPerIter.append((i, np.log(sum_error)))\n",
        "    accPerIter.append((i, accuracy(input_arr, weights)))\n",
        "\n",
        "  return weights, errosPerIter, accPerIter\n",
        "      \n",
        "def perceptron(test_data, train_data, learn_rate, iter_count):\n",
        "  weights = start_train_weights(train_data, learn_rate, iter_count)\n",
        "\n",
        "  result = []\n",
        "  for data in test_data:\n",
        "    result.append(predict(data, weights))\n",
        "  \n",
        "  return result\n",
        "\n",
        "def solve_eq(x1, weight1, bias, weight2):\n",
        "  return float(-(bias + weight1 * x1) / float(weight2))\n",
        "\n",
        "def plot_line_and_input(input_arr, weights):\n",
        "    plt.title(\"Line and Inputs\")\n",
        "    plt.grid(True)\n",
        "\n",
        "    min = 100000000000000000000\n",
        "    max = -1000000000000000000\n",
        "    for data in input_arr:\n",
        "      if data[0] > max:\n",
        "        max = data[0]\n",
        "      \n",
        "      if data[0] < min:\n",
        "        min = data[0]\n",
        "\n",
        "      \n",
        "      plt.plot(data[0],data[1], 'ro' if (data[2] == 1.0) else 'bo', markersize=3)\n",
        "    x1 = np.linspace(min, max, 1000)\n",
        "    #since we have 2 weight therefore we can create line equation w1x1 + w2x2 + b = 0   ===>   x2 = -(b + w1x1)/w2\n",
        "    x2 = list(map(solve_eq, x1, repeat(weights[1]), repeat(weights[0]), repeat(weights[2])))\n",
        "    plt.plot(x1, x2, color='black');\n",
        "    \n",
        "    plt.show()\n",
        "\n",
        "def plot_acc(acc_per_iter):\n",
        "\n",
        "  iter = [x[0] for x in acc_per_iter]\n",
        "  acc = [x[1] for x in acc_per_iter]\n",
        "  plt.title(\"Line and Inputs\")\n",
        "  plt.grid(True)\n",
        "  plt.plot(iter, acc, color='black');  \n",
        "  plt.show()\n",
        "\n",
        "def plot_err(err_per_iter):\n",
        "\n",
        "  iter = [x[0] for x in err_per_iter]\n",
        "  error = [x[1] for x in err_per_iter]\n",
        "  plt.title(\"Error per iter\")\n",
        "  plt.grid(True)\n",
        "  plt.plot(iter, error, color='black');  \n",
        "  plt.show()"
      ],
      "execution_count": null,
      "outputs": []
    },
    {
      "cell_type": "code",
      "metadata": {
        "id": "M5auUdYc_Tc0",
        "colab": {
          "base_uri": "https://localhost:8080/",
          "height": 826
        },
        "outputId": "ffbd7a79-2081-43ac-9524-9fbc05859708"
      },
      "source": [
        "# Q2_graded\n",
        "# Do not change the above line.\n",
        "\n",
        "# This cell is for your codes.\n",
        "\n",
        "\n",
        "weights, err, acc = start_train_weights(train_dataset, 0.2, 10000)\n",
        "\n",
        "plot_line_and_input(train_dataset, weights)\n",
        "plot_acc(acc)\n",
        "plot_err(err)"
      ],
      "execution_count": null,
      "outputs": [
        {
          "output_type": "stream",
          "text": [
            "/usr/local/lib/python3.7/dist-packages/ipykernel_launcher.py:64: RuntimeWarning: invalid value encountered in log\n"
          ],
          "name": "stderr"
        },
        {
          "output_type": "display_data",
          "data": {
            "image/png": "[encoded data removed]",
            "text/plain": [
              "<Figure size 432x288 with 1 Axes>"
            ]
          },
          "metadata": {
            "tags": [],
            "needs_background": "light"
          }
        },
        {
          "output_type": "display_data",
          "data": {
            "image/png": "[encoded data removed]",
            "text/plain": [
              "<Figure size 432x288 with 1 Axes>"
            ]
          },
          "metadata": {
            "tags": [],
            "needs_background": "light"
          }
        },
        {
          "output_type": "display_data",
          "data": {
            "image/png": "[encoded data removed]",
            "text/plain": [
              "<Figure size 432x288 with 1 Axes>"
            ]
          },
          "metadata": {
            "tags": [],
            "needs_background": "light"
          }
        }
      ]
    },
    {
      "cell_type": "markdown",
      "metadata": {
        "id": "gMWCmByc-7H5"
      },
      "source": [
        "# Q4. MLP"
      ]
    },
    {
      "cell_type": "code",
      "metadata": {
        "id": "wpWMwI6z--GX"
      },
      "source": [
        "# Q4_graded\n",
        "# Do not change the above line.\n",
        "\n",
        "# This cell is for your imports.\n",
        "\n",
        "from keras.layers import *\n",
        "from keras.optimizers import *\n",
        "from keras.models import Sequential\n",
        "from keras.datasets import mnist\n",
        "from keras.utils import to_categorical\n",
        "import numpy as np\n",
        "import matplotlib.pyplot as plt"
      ],
      "execution_count": null,
      "outputs": []
    },
    {
      "cell_type": "code",
      "metadata": {
        "id": "kTmDh0Tw_Tuy"
      },
      "source": [
        "# Q4_graded\n",
        "# Do not change the above line.\n",
        "\n",
        "# This cell is for your codes.\n",
        "\n",
        "(x_train, y_train), (x_test, y_test) = mnist.load_data()\n",
        "\n",
        "img_rows, img_cols = 28, 28\n",
        "\n",
        "x_train = x_train.reshape(x_train.shape[0], img_rows * img_cols)\n",
        "x_test = x_test.reshape(x_test.shape[0], img_rows * img_cols)\n",
        "\n",
        "x_train = np.true_divide(x_train, 255)\n",
        "x_test = np.true_divide(x_test, 255)\n",
        "num_classes = 10\n",
        "\n",
        "y_train = to_categorical(y_train, num_classes)\n",
        "y_test = to_categorical(y_test, num_classes)"
      ],
      "execution_count": null,
      "outputs": []
    },
    {
      "cell_type": "code",
      "metadata": {
        "id": "frBeD-ka_UAJ",
        "colab": {
          "base_uri": "https://localhost:8080/",
          "height": 777
        },
        "outputId": "4964d492-84f8-4e1b-ae08-f2ac556fb77f"
      },
      "source": [
        "# Q4_graded\n",
        "# Do not change the above line.\n",
        "\n",
        "# This cell is for your codes.\n",
        "\n",
        "model = Sequential()\n",
        "model.add(core.Dense(512, activation='relu', input_shape=(img_rows * img_cols,)))\n",
        "model.add(core.Dense(10, activation='softmax'))\n",
        "\n",
        "batch_size = 128\n",
        "epochs = 5\n",
        "model.compile(loss='categorical_crossentropy', optimizer='adam', metrics=['accuracy'])\n",
        "# prin(model.summry)\n",
        "result = model.fit(x_test, y_test, batch_size=batch_size,\n",
        "                    epochs=epochs,\n",
        "                    verbose=1,\n",
        "                    validation_data=(x_test, y_test))\n",
        "score = model.evaluate(x_test, y_test, verbose=0)\n",
        "print('Test loss:', score[0])\n",
        "print('Test accuracy:', score[1])\n",
        "\n",
        "def show_model_accuracy(result):\n",
        "  plt.title('accuracy')\n",
        "  plt.ylabel('accuracy')\n",
        "  plt.xlabel('iteration(epoch)')\n",
        "  plt.plot(result)\n",
        "  plt.show()\n",
        "\n",
        "def show_model_error(result):\n",
        "  plt.title('loss')\n",
        "  plt.ylabel('loss')\n",
        "  plt.xlabel('iteration(epoch)')\n",
        "  plt.plot(result)\n",
        "  plt.show()\n",
        "\n",
        "show_model_accuracy(result.history['accuracy']);\n",
        "show_model_error(result.history['loss']);"
      ],
      "execution_count": null,
      "outputs": [
        {
          "output_type": "stream",
          "text": [
            "Epoch 1/5\n",
            "79/79 [==============================] - 1s 13ms/step - loss: 0.9345 - accuracy: 0.7319 - val_loss: 0.2596 - val_accuracy: 0.9284\n",
            "Epoch 2/5\n",
            "79/79 [==============================] - 1s 11ms/step - loss: 0.2367 - accuracy: 0.9367 - val_loss: 0.1674 - val_accuracy: 0.9548\n",
            "Epoch 3/5\n",
            "79/79 [==============================] - 1s 11ms/step - loss: 0.1667 - accuracy: 0.9533 - val_loss: 0.1217 - val_accuracy: 0.9678\n",
            "Epoch 4/5\n",
            "79/79 [==============================] - 1s 10ms/step - loss: 0.1216 - accuracy: 0.9672 - val_loss: 0.0923 - val_accuracy: 0.9786\n",
            "Epoch 5/5\n",
            "79/79 [==============================] - 1s 11ms/step - loss: 0.0913 - accuracy: 0.9780 - val_loss: 0.0729 - val_accuracy: 0.9828\n",
            "Test loss: 0.07289772480726242\n",
            "Test accuracy: 0.9828000068664551\n"
          ],
          "name": "stdout"
        },
        {
          "output_type": "display_data",
          "data": {
            "image/png": "[encoded data removed]",
            "text/plain": [
              "<Figure size 432x288 with 1 Axes>"
            ]
          },
          "metadata": {
            "tags": [],
            "needs_background": "light"
          }
        },
        {
          "output_type": "display_data",
          "data": {
            "image/png": "[encoded data removed]",
            "text/plain": [
              "<Figure size 432x288 with 1 Axes>"
            ]
          },
          "metadata": {
            "tags": [],
            "needs_background": "light"
          }
        }
      ]
    },
    {
      "cell_type": "markdown",
      "metadata": {
        "id": "XYu2rMtB_FxI"
      },
      "source": [
        "# Q5. Back-Propagation"
      ]
    },
    {
      "cell_type": "code",
      "metadata": {
        "id": "zbCqds5p_Gx2",
        "colab": {
          "base_uri": "https://localhost:8080/",
          "height": 1000
        },
        "outputId": "d6fc6c00-2316-4362-dda3-a7c25f30c44c"
      },
      "source": [
        "# Q5_graded\n",
        "# Do not change the above line.\n",
        "\n",
        "# This cell is for your imports\n",
        "from keras.layers import *\n",
        "from keras.optimizers import *\n",
        "from keras.models import Sequential\n",
        "from keras.datasets import mnist\n",
        "from keras.utils import to_categorical\n",
        "import numpy as np\n",
        "import matplotlib.pyplot as plt\n",
        "\n",
        "def params(n_in, n_out):\n",
        "    params = dict()\n",
        "    params['w'] = np.random.randn(n_out, n_in) / (np.sqrt(n_in)) \n",
        "    params['b'] = np.zeros((n_out, 1))\n",
        "\n",
        "    return params\n",
        "\n",
        "\n",
        "class Layer:\n",
        "    def __init__(self, input_shape, n_out):\n",
        "        self.params = params(input_shape[0], n_out)\n",
        "        self.H = np.zeros((self.params['w'].shape[0], input_shape[1]))\n",
        "\n",
        "    def forward(self, prev_layer_out):\n",
        "\n",
        "        self.prev_layer_out = prev_layer_out\n",
        "        self.H = np.dot(self.params['w'], self.prev_layer_out) + self.params['b'] #calculate current layer\n",
        "\n",
        "    def backward(self, prev):\n",
        "        self.dw = np.dot(prev, self.prev_layer_out.T) \n",
        "\n",
        "        self.db = np.sum(prev, axis=1, keepdims=True)\n",
        "\n",
        "        self.dprev_layer = np.dot(self.params['w'].T, prev)\n",
        "\n",
        "    def update_params(self, learning_rate):\n",
        "        self.params['w'] = self.params['w'] - learning_rate * self.dw\n",
        "        self.params['b'] = self.params['b'] - learning_rate * self.db\n",
        "\n",
        "class Sigmoid:\n",
        "    def __init__(self, shape):\n",
        "        self.current_layer = np.zeros(shape)\n",
        "\n",
        "    def forward(self, Z):\n",
        "        self.current_layer = 1 / (1 + np.exp(-Z)) #Sigmoid\n",
        "\n",
        "    def backward(self, prev):\n",
        "        self.dz = prev * self.current_layer*(1-self.current_layer) #backward of Sigmoid\n",
        "\n",
        "\n",
        "def loss(Y, Y_hat):\n",
        "    number_of_inputs = Y.shape[1]\n",
        "    cost = (1 / (2 * number_of_inputs)) * np.sum(np.square(np.subtract(Y, Y_hat)))\n",
        "    cost = np.squeeze(cost)\n",
        "    dy_hat = -1 / number_of_inputs * (Y - Y_hat)\n",
        "\n",
        "    return cost, dy_hat\n",
        "\n",
        "\n",
        "\n",
        "(x_train, y_train), (x_test, y_test) = mnist.load_data()\n",
        "img_rows, img_cols = 28, 28\n",
        "x_train = x_train.reshape(x_train.shape[0], img_rows * img_cols)\n",
        "x_test = x_test.reshape(x_test.shape[0], img_rows * img_cols)\n",
        "x_train = np.true_divide(x_train, 255)\n",
        "x_test = np.true_divide(x_test, 255)\n",
        "num_classes = 10\n",
        "y_train = to_categorical(y_train, num_classes)\n",
        "y_test = to_categorical(y_test, num_classes)\n",
        "learning_rate = 0.3\n",
        "number_of_epochs = 30\n",
        "np.random.seed(48) \n",
        "x_train = np.einsum('ij->ji', x_train)\n",
        "x_test = np.einsum('ij->ji', x_test)\n",
        "\n",
        "\n",
        "NN_ART = [\n",
        "    {'layer': Layer(input_shape=x_train.shape, n_out=512), 'func': Sigmoid, 'res': None}\n",
        "]\n",
        "\n",
        "llayer = NN_ART[0]['layer']\n",
        "func = NN_ART[0]['func']\n",
        "NN_ART[0]['res'] = func(llayer.H.shape)\n",
        "\n",
        "NN_ART.append({'layer': Layer(input_shape=NN_ART[0]['res'].current_layer.shape, n_out=10), 'func': Sigmoid, 'res':None})\n",
        "\n",
        "llayer = NN_ART[1]['layer']\n",
        "func = NN_ART[1]['func']\n",
        "NN_ART[1]['res'] = func(llayer.H.shape)\n",
        "\n",
        "\n",
        "\n",
        "\n",
        "def single_forward_train(nn, x_train, y_train):\n",
        "\n",
        "  prev = None\n",
        "  for layer in nn:\n",
        "    llayer = layer['layer']\n",
        "    current = layer['res']\n",
        "    if prev != None:\n",
        "      llayer.forward(prev.current_layer)\n",
        "    else:\n",
        "      llayer.forward(x_train)\n",
        "    current.forward(llayer.H)\n",
        "    prev = current\n",
        "  \n",
        "  return loss(Y=y_train, Y_hat=prev.current_layer)\n",
        "\n",
        "\n",
        "def single_backward_train(nn, prev_back):\n",
        "\n",
        "  nn = list(reversed(nn))\n",
        "  prev = None\n",
        "  for layer in nn:\n",
        "    llayer = layer['layer']\n",
        "    current = layer['res']\n",
        "    if prev != None:\n",
        "      current.backward(prev.dprev_layer)\n",
        "    else:\n",
        "      current.backward(prev_back)\n",
        "    llayer.backward(current.dz)\n",
        "    prev = llayer\n",
        "\n",
        "def update_w_b(nn, learning_rate):\n",
        "  nn = list(reversed(nn))\n",
        "  prev = None\n",
        "  for layer in nn:\n",
        "    llayer = layer['layer']\n",
        "    llayer.update_params(learning_rate=learning_rate)\n",
        "\n",
        "def plot_err(err_per_iter):\n",
        "\n",
        "  iter = [x[0] for x in err_per_iter]\n",
        "  error = [x[1] for x in err_per_iter]\n",
        "  plt.title(\"Error per iter\")\n",
        "  plt.grid(True)\n",
        "  plt.plot(iter, error, color='black');  \n",
        "  plt.show()\n",
        "\n",
        "def predic(x_test, y_test):\n",
        "  cost, _ = single_forward_train(NN_ART, x_test, y_test)\n",
        "  print(f\"error:{cost}\")\n",
        "costs = []\n",
        "\n",
        "y_test = np.array(np.einsum('ij->ji', y_test))\n",
        "y_train = np.array(np.einsum('ij->ji', y_train))\n",
        "for epoch in range(number_of_epochs):\n",
        "    print(epoch)\n",
        "    cost, change = single_forward_train(NN_ART, x_train, y_train)\n",
        "    costs.append((epoch, cost))\n",
        "    print(\"Cost at epoch#{}: {}\".format(epoch, cost))\n",
        "    single_backward_train(NN_ART, change)\n",
        "    update_w_b(NN_ART, learning_rate)\n",
        "\n",
        "predic(x_test, y_test)\n",
        "plot_err(costs)"
      ],
      "execution_count": 32,
      "outputs": [
        {
          "output_type": "stream",
          "text": [
            "0\n",
            "Cost at epoch#0: 1.3532159800466577\n",
            "1\n",
            "Cost at epoch#1: 0.4796743630134607\n",
            "2\n",
            "Cost at epoch#2: 0.47854074373978944\n",
            "3\n",
            "Cost at epoch#3: 0.47735889203187293\n",
            "4\n",
            "Cost at epoch#4: 0.4761360750697482\n",
            "5\n",
            "Cost at epoch#5: 0.4748790158202282\n",
            "6\n",
            "Cost at epoch#6: 0.4735935145629252\n",
            "7\n",
            "Cost at epoch#7: 0.47228474183748065\n",
            "8\n",
            "Cost at epoch#8: 0.4709574376059277\n",
            "9\n",
            "Cost at epoch#9: 0.46961498438846627\n",
            "10\n",
            "Cost at epoch#10: 0.46825724459601825\n",
            "11\n",
            "Cost at epoch#11: 0.4668786023962153\n",
            "12\n",
            "Cost at epoch#12: 0.46546837683970615\n",
            "13\n",
            "Cost at epoch#13: 0.4640146885974618\n",
            "14\n",
            "Cost at epoch#14: 0.4625106188203197\n",
            "15\n",
            "Cost at epoch#15: 0.46095993422606\n",
            "16\n",
            "Cost at epoch#16: 0.4593797365191909\n",
            "17\n",
            "Cost at epoch#17: 0.4577984478886863\n",
            "18\n",
            "Cost at epoch#18: 0.45624912900361303\n",
            "19\n",
            "Cost at epoch#19: 0.4547608429698936\n",
            "20\n",
            "Cost at epoch#20: 0.45335338757735943\n",
            "21\n",
            "Cost at epoch#21: 0.45203899256262\n",
            "22\n",
            "Cost at epoch#22: 0.4508280648812551\n",
            "23\n",
            "Cost at epoch#23: 0.4497323502661402\n",
            "24\n",
            "Cost at epoch#24: 0.4487626508833935\n",
            "25\n",
            "Cost at epoch#25: 0.4479238210839933\n",
            "26\n",
            "Cost at epoch#26: 0.4472112453800772\n",
            "27\n",
            "Cost at epoch#27: 0.4466109358032788\n",
            "28\n",
            "Cost at epoch#28: 0.446102678477644\n",
            "29\n",
            "Cost at epoch#29: 0.4456642496123735\n",
            "error:0.44516503050845924\n"
          ],
          "name": "stdout"
        },
        {
          "output_type": "display_data",
          "data": {
            "image/png": "[encoded data removed]",
            "text/plain": [
              "<Figure size 432x288 with 1 Axes>"
            ]
          },
          "metadata": {
            "tags": [],
            "needs_background": "light"
          }
        }
      ]
    },
    {
      "cell_type": "code",
      "metadata": {
        "id": "_DkIgkeD_Ubv"
      },
      "source": [
        "# Q5_graded\n",
        "# Do not change the above line.\n",
        "\n",
        "# This cell is for your codes.s"
      ],
      "execution_count": null,
      "outputs": []
    },
    {
      "cell_type": "code",
      "metadata": {
        "id": "dVLmzv43_UrQ"
      },
      "source": [
        "# Q5_graded\n",
        "# Do not change the above line.\n",
        "\n",
        "# This cell is for your codes."
      ],
      "execution_count": null,
      "outputs": []
    },
    {
      "cell_type": "markdown",
      "metadata": {
        "id": "iRqYhKw1rgUp"
      },
      "source": [
        "# <font color='red'>Submission</font>\n",
        "\n",
        "1. Sign up in [Gradescope](https://www.gradescope.com) with proper name and student ID and use the following code to join the class: <font color='red'>**D5372R**</font>\n",
        "2. Fill in your full name (seperated by single spaces) and student ID in the beginning of this notebook.\n",
        "3. After you're done with this notebook, you should do the following:\n",
        "  - Clear all outputs of the notebook.\n",
        "  ![clear all outputs](https://i.ibb.co/y6FrttB/Screen-Shot-2021-03-21-at-01-51-42.png)\n",
        "  - Run all of the cells (if you skipped a question just leave the cell unchanged), and make sure all of your outputs are correct.\n",
        "  ![run all](https://i.ibb.co/cgRcBZ0/Screen-Shot-2021-03-21-at-01-54-58.png)\n",
        "  - Save your notebook.\n",
        "  \n",
        "  - If you're using Colab, download your notebook.\n",
        "  ![download ipynb](https://i.ibb.co/2KxYM6K/Screen-Shot-2021-03-21-at-02-03-50.png)\n",
        "  \n",
        "  - Put the notebook file you just downloaded and `convert.py` in the same folder run the following command:\n",
        "  ```bash\n",
        "  python convert.py\n",
        "  ```\n",
        "  This will export your code for each question into a `.py` file.\n",
        "    - **Note**: if you want to add more cells, add this to the **first** line of the cell:\n",
        "  ```python\n",
        "  # Q5_graded\n",
        "  ```\n",
        "  according to the question number.\n",
        "  - There are 2 assignments in Gradescope:\n",
        "\n",
        "    ![assignments](https://i.ibb.co/10GMhGM/Screen-Shot-2021-03-21-at-02-16-25.png)\n",
        "  \n",
        "    You should upload your **codes** and your **notebook** in `HW1` section and your final report for all of the questions as a **single pdf** file in `HW1 - Report`. Autograder will automatically check for:\n",
        "    - `CI992_HW1.ipynb`\n",
        "    - `Q1.py`\n",
        "    - `Q2.py`\n",
        "    - `Q4.py`\n",
        "    - `Q5.py`\n",
        "    - Your name and ID in the beginning of `.ipynb` file.\n",
        "\n",
        "    It is important that you <font color='red'>**don't**</font> change the names of these files before submission.\n",
        "\n",
        "4. If you pass the autograder, you're good to go."
      ]
    },
    {
      "cell_type": "code",
      "metadata": {
        "id": "h1Ps0M879XSR"
      },
      "source": [
        ""
      ],
      "execution_count": null,
      "outputs": []
    }
  ]
}