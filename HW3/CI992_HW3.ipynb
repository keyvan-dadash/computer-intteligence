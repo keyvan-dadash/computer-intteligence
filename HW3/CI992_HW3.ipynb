{
  "nbformat": 4,
  "nbformat_minor": 0,
  "metadata": {
    "colab": {
      "name": "CI992_HW3.ipynb",
      "provenance": [],
      "collapsed_sections": [],
      "toc_visible": true
    },
    "kernelspec": {
      "name": "python3",
      "display_name": "Python 3"
    },
    "language_info": {
      "name": "python"
    }
  },
  "cells": [
    {
      "cell_type": "markdown",
      "metadata": {
        "id": "heBxPYfc0U22"
      },
      "source": [
        "# Your info\n",
        "\n",
        "Full name: Keyvan Dadashzadeh\n",
        "\n",
        "Student ID: 97522148"
      ]
    },
    {
      "cell_type": "markdown",
      "metadata": {
        "id": "UBD007b3-ntJ"
      },
      "source": [
        "# Q1. Hopfield"
      ]
    },
    {
      "cell_type": "code",
      "metadata": {
        "colab": {
          "base_uri": "https://localhost:8080/"
        },
        "id": "spFPOzLyiwc2",
        "outputId": "98b42e27-c207-4835-c0fb-0b03da025e4d"
      },
      "source": [
        "# Q1.1_graded\n",
        "# Do not change the above line.\n",
        "\n",
        "# This cell is for your imports.\n",
        "\n",
        "import numpy as np\n",
        "import matplotlib.pyplot as plt\n",
        "\n",
        "def process_weights(patterns, weights_dimension):\n",
        "  weights = np.ndarray(weights_dimension, buffer=np.full(weights_dimension[0] * weights_dimension[1], 0), dtype=float)\n",
        "  for pattern in patterns: \n",
        "      for index_i in range(weights_dimension[0]):\n",
        "        for index_j in range(index_i): \n",
        "          weights[index_i, index_j] += pattern[index_i] * pattern[index_j]\n",
        "          weights[index_j, index_i] = weights[index_i, index_j]\n",
        "\n",
        "  np.fill_diagonal(weights, 0)\n",
        "  return weights\n",
        "\n",
        "\n",
        "def process_energy(patterns, weights, weights_dimension):\n",
        "  energy = np.ndarray((len(patterns), 1), buffer=np.full(len(patterns), 0), dtype=float)\n",
        "  # energy = [0 for i in range(len(patterns))]\n",
        "  for index, pattern in enumerate(patterns):\n",
        "    for index_i in range(weights_dimension[0]):\n",
        "      for index_j in range(weights_dimension[1]):\n",
        "        energy[index] += weights[index_i][index_j] * pattern[index_i] * pattern[index_j]\n",
        "  return (-1 * energy)/2\n",
        "\n",
        "\n",
        "def sign(pattern, weights):\n",
        "  return np.sign(np.dot(pattern, weights))\n",
        "\n",
        "\n",
        "patterns = [\n",
        "    [1, 1, 1, 1],\n",
        "    [-1, -1, -1, -1],\n",
        "    [1, 1, -1, -1],\n",
        "    [-1, -1, 1, 1]\n",
        "]\n",
        "weights = process_weights(patterns, (4, 4))\n",
        "print(weights)\n",
        "energy = process_energy(patterns, weights, (4, 4))       \n",
        "print(energy)"
      ],
      "execution_count": null,
      "outputs": [
        {
          "output_type": "stream",
          "text": [
            "[[0. 4. 0. 0.]\n",
            " [4. 0. 0. 0.]\n",
            " [0. 0. 0. 4.]\n",
            " [0. 0. 4. 0.]]\n",
            "[[-8.]\n",
            " [-8.]\n",
            " [-8.]\n",
            " [-8.]]\n"
          ],
          "name": "stdout"
        }
      ]
    },
    {
      "cell_type": "markdown",
      "metadata": {
        "id": "VAAR47H8-5ML"
      },
      "source": [
        "## Q1.2"
      ]
    },
    {
      "cell_type": "code",
      "metadata": {
        "id": "LV7Xa2Sx-6cV"
      },
      "source": [
        "# Q1.2_graded\n",
        "# Do not change the above line.\n",
        "\n",
        "# This cell is for your imports.\n",
        "\n",
        "import numpy as np\n",
        "import matplotlib.pyplot as plt"
      ],
      "execution_count": null,
      "outputs": []
    },
    {
      "cell_type": "code",
      "metadata": {
        "id": "bMIDe8oc_TLW",
        "colab": {
          "base_uri": "https://localhost:8080/"
        },
        "outputId": "e6d7c40a-eeb8-4908-81f8-bdaff34074d4"
      },
      "source": [
        "# Q1.2_graded\n",
        "# Do not change the above line.\n",
        "\n",
        "\n",
        "def process_weights(patterns, weights_dimension):\n",
        "  weights = np.ndarray(weights_dimension, buffer=np.full(weights_dimension[0] * weights_dimension[1], 0), dtype=float)\n",
        "  for pattern in patterns: \n",
        "      for index_i in range(weights_dimension[0]):\n",
        "        for index_j in range(index_i): \n",
        "          weights[index_i, index_j] += pattern[index_i] * pattern[index_j]\n",
        "          weights[index_j, index_i] = weights[index_i, index_j]\n",
        "\n",
        "  np.fill_diagonal(weights, 0)\n",
        "  return weights\n",
        "\n",
        "\n",
        "def process_energy(patterns, weights, weights_dimension):\n",
        "  energy = np.ndarray((len(patterns), 1), buffer=np.full(len(patterns), 0), dtype=float)\n",
        "  # energy = [0 for i in range(len(patterns))]\n",
        "  for index, pattern in enumerate(patterns):\n",
        "    for index_i in range(weights_dimension[0]):\n",
        "      for index_j in range(weights_dimension[1]):\n",
        "        energy[index] = weights[index_i][index_j] * pattern[index_i] * pattern[index_j]\n",
        "  return energy/2\n",
        "\n",
        "\n",
        "def sign(pattern, weights):\n",
        "  return np.sign(np.dot(pattern, weights))\n",
        "\n",
        "\n",
        "patterns = [\n",
        "    [1, -1, 1, -1, 1, -1],\n",
        "    [1, 1, 1, -1, -1, -1]\n",
        "]\n",
        "weights = process_weights(patterns, (6, 6))\n",
        "print(weights)\n",
        "print(sign([1, 1, 1, -1, -1, -1], weights))\n",
        "print(sign([-1, 1, 1, -1, -1, -1], weights))\n",
        "energy = process_energy(patterns, weights, (6, 6))       \n",
        "print(energy)"
      ],
      "execution_count": null,
      "outputs": [
        {
          "output_type": "stream",
          "text": [
            "[[ 0.  0.  2. -2.  0. -2.]\n",
            " [ 0.  0.  0.  0. -2.  0.]\n",
            " [ 2.  0.  0. -2.  0. -2.]\n",
            " [-2.  0. -2.  0.  0.  2.]\n",
            " [ 0. -2.  0.  0.  0.  0.]\n",
            " [-2.  0. -2.  2.  0.  0.]]\n",
            "[ 1.  1.  1. -1. -1. -1.]\n",
            "[ 1.  1.  1. -1. -1. -1.]\n",
            "[[0.]\n",
            " [0.]]\n"
          ],
          "name": "stdout"
        }
      ]
    },
    {
      "cell_type": "markdown",
      "metadata": {
        "id": "gMWCmByc-7H5"
      },
      "source": [
        "## Q1.3"
      ]
    },
    {
      "cell_type": "code",
      "metadata": {
        "id": "wpWMwI6z--GX",
        "colab": {
          "base_uri": "https://localhost:8080/"
        },
        "outputId": "f7629eb3-c4ed-47f9-e73e-198d5cb0b3f3"
      },
      "source": [
        "# Q1.3_graded\n",
        "# Do not change the above line.\n",
        "\n",
        "# This cell is for your imports.\n",
        "\n",
        "!wget \"https://www.cufonfonts.com/download/rf/arial\"\n",
        "!pwd\n",
        "!mkdir -p download_data\n",
        "!mv arial download_data/\n",
        "!cd download_data\n",
        "!unzip download_data/arial -d download_data/\n",
        "!mv download_data/ARIAL.TTF /usr/share/fonts/truetype/\n",
        "!cd ..\n",
        "!rm -rf download_data/"
      ],
      "execution_count": null,
      "outputs": [
        {
          "output_type": "stream",
          "text": [
            "--2021-06-04 02:27:51--  https://www.cufonfonts.com/download/rf/arial\n",
            "Resolving www.cufonfonts.com (www.cufonfonts.com)... 172.67.73.52, 104.26.8.47, 104.26.9.47, ...\n",
            "Connecting to www.cufonfonts.com (www.cufonfonts.com)|172.67.73.52|:443... connected.\n",
            "HTTP request sent, awaiting response... 302 Found\n",
            "Location: https://www.cufonfonts.com/download/font/arial [following]\n",
            "--2021-06-04 02:27:52--  https://www.cufonfonts.com/download/font/arial\n",
            "Reusing existing connection to www.cufonfonts.com:443.\n",
            "HTTP request sent, awaiting response... 200 OK\n",
            "Length: 3834335 (3.7M) [application/zip]\n",
            "Saving to: ‘arial’\n",
            "\n",
            "arial               100%[===================>]   3.66M  --.-KB/s    in 0.1s    \n",
            "\n",
            "2021-06-04 02:27:52 (29.1 MB/s) - ‘arial’ saved [3834335/3834335]\n",
            "\n",
            "/content\n",
            "Archive:  download_data/arial\n",
            "  inflating: download_data/ARIAL.TTF  \n",
            "  inflating: download_data/ARIALN.TTF  \n",
            "  inflating: download_data/ARIALI 1.TTF  \n",
            "  inflating: download_data/ARIALI.TTF  \n",
            "  inflating: download_data/ARIALNI.TTF  \n",
            "  inflating: download_data/ArialMdm.ttf  \n",
            "  inflating: download_data/ArialMdmItl.ttf  \n",
            "  inflating: download_data/ARIALBD 1.TTF  \n",
            "  inflating: download_data/ARIALBD.TTF  \n",
            "  inflating: download_data/ARIALNB.TTF  \n",
            "  inflating: download_data/ARIALBI 1.TTF  \n",
            "  inflating: download_data/ARIALBI.TTF  \n",
            "  inflating: download_data/ARIALNBI.TTF  \n",
            "  inflating: download_data/ARIBLK.TTF  \n",
            "  inflating: download_data/ARIALBLACKITALIC.TTF  \n",
            "  inflating: download_data/ARIALLGT.TTF  \n",
            "  inflating: download_data/ArialCE.ttf  \n",
            "  inflating: download_data/ArialCEMTBlack.ttf  \n",
            "  inflating: download_data/arialceb.ttf  \n",
            "  inflating: download_data/ARIALLGTITL.TTF  \n",
            "  inflating: download_data/ArialCEItalic.ttf  \n",
            "  inflating: download_data/ArialCEBoldItalic.ttf  \n"
          ],
          "name": "stdout"
        }
      ]
    },
    {
      "cell_type": "code",
      "metadata": {
        "id": "kTmDh0Tw_Tuy",
        "colab": {
          "base_uri": "https://localhost:8080/"
        },
        "outputId": "704ebabf-6af7-41fc-d378-2a61e3cf425f"
      },
      "source": [
        "# Q1.3_graded\n",
        "# Do not change the above line.\n",
        "\n",
        "import numpy as np\n",
        "import matplotlib.pyplot as plt\n",
        "from PIL import Image, ImageFont\n",
        "import os\n",
        "# This cell is for your codes.\n",
        "\n",
        "\n",
        "def gen_patterns(font_size):\n",
        "  font = ImageFont.truetype(\"/usr/share/fonts/truetype/ARIAL.TTF\", font_size)\n",
        "  max_pixel = (-1,)\n",
        "  raw_patterns = []\n",
        "  for char in \"ABCDEFGHIJ\":\n",
        "      im = Image.Image()._new(font.getmask(char))\n",
        "      pixels = np.array(im.getdata())\n",
        "      if pixels.shape[0] > max_pixel[0]:\n",
        "        max_pixel = pixels.shape\n",
        "      raw_patterns.append(pixels)\n",
        "\n",
        "\n",
        "  equal_patterns = []\n",
        "  for raw_pattern in raw_patterns:\n",
        "    if max_pixel[0] == len(raw_pattern):\n",
        "      continue\n",
        "    \n",
        "    shift_size = max_pixel[0] - len(raw_pattern)\n",
        "    \n",
        "    equal_pattern = np.zeros(max_pixel)\n",
        "    equal_pattern[int(shift_size/2):int(len(raw_pattern) + shift_size/2)] = raw_pattern\n",
        "    equal_pattern = np.where(equal_pattern > 0, 1, equal_pattern)\n",
        "    equal_patterns.append(np.where(equal_pattern == 0, -1, equal_pattern))\n",
        "\n",
        "  return equal_patterns\n",
        "\n",
        "\n",
        "def convert_to_noisy_pattern(original_patterns, noise_rate):\n",
        "  max_pixel = original_patterns[0].shape\n",
        "  final_patterns = []\n",
        "\n",
        "  patterns = original_patterns.copy()\n",
        "\n",
        "  number_of_noise = int(max_pixel[0] * noise_rate)\n",
        "\n",
        "  for index, equal_pattern in enumerate(patterns):\n",
        "    random_numbers = np.random.randint(max_pixel[0], size=number_of_noise)\n",
        "    for i in random_numbers:\n",
        "      patterns[index][i] = equal_pattern[i] * -1\n",
        "    final_patterns.append(equal_pattern)\n",
        "\n",
        "\n",
        "  return final_patterns\n",
        "\n",
        "\n",
        "def process_weights(patterns, weights_dimension):\n",
        "  weights = np.ndarray(weights_dimension, buffer=np.full(weights_dimension[0] * weights_dimension[1], 0), dtype=float)\n",
        "  for pattern in patterns: \n",
        "    for index_i in range(weights_dimension[0]):\n",
        "      for index_j in range(index_i, weights_dimension[0]): \n",
        "        weights[index_i, index_j] += pattern[index_i] * pattern[index_j]\n",
        "        weights[index_j, index_i] = weights[index_i, index_j]\n",
        "\n",
        "  np.fill_diagonal(weights, 0)\n",
        "  return weights\n",
        "\n",
        "def sign(pattern, weights):\n",
        "  return np.sign(np.dot(pattern, weights))\n",
        "\n",
        "def accu(first, second):\n",
        "  return np.sum(first == second) / first.shape[0]\n",
        "\n",
        "font_16_patterns = gen_patterns(16)\n",
        "font_32_patterns = gen_patterns(32)\n",
        "font_64_patterns = gen_patterns(64)\n",
        "\n",
        "\n",
        "font_16_weights = process_weights(font_16_patterns, (font_16_patterns[0].shape[0], font_16_patterns[0].shape[0]))\n",
        "font_32_weights = process_weights(font_32_patterns, (font_32_patterns[0].shape[0], font_32_patterns[0].shape[0]))\n",
        "font_64_weights = process_weights(font_64_patterns, (font_64_patterns[0].shape[0], font_64_patterns[0].shape[0]))\n",
        "\n",
        "\n",
        "noises = [0.1, 0.3, 0.6]\n",
        "\n",
        "def eval_acc(patterns, noisy_patterns, weights):\n",
        "  sum = 0\n",
        "  for index, noisy_pattern in enumerate(noisy_patterns):\n",
        "    signed = sign(noisy_pattern, weights)\n",
        "    sum += accu(patterns[index], signed)\n",
        "  return sum / len(noisy_patterns)\n",
        "\n",
        "for noise in noises:\n",
        "  print('-'*20 + ' start noise' + str(noise) + ' ' + '-'*20)\n",
        "\n",
        "  font_16_patterns_noise = convert_to_noisy_pattern(font_16_patterns, noise)\n",
        "  print(eval_acc(font_16_patterns, font_16_patterns_noise, font_16_weights))\n",
        "\n",
        "  font_32_patterns_noise = convert_to_noisy_pattern(font_32_patterns, noise)\n",
        "  print(eval_acc(font_32_patterns, font_32_patterns_noise, font_32_weights))\n",
        "\n",
        "  font_64_patterns_noise = convert_to_noisy_pattern(font_64_patterns, noise)\n",
        "  print(eval_acc(font_64_patterns, font_64_patterns_noise, font_64_weights))\n",
        "\n",
        "  print('-'*20 + ' end noise' + str(noise) + ' ' + '-'*20)\n"
      ],
      "execution_count": null,
      "outputs": [
        {
          "output_type": "stream",
          "text": [
            "--------------------start noise0.1--------------------\n",
            "0.8746438746438745\n",
            "0.8790338164251207\n",
            "0.8531018518518518\n",
            "--------------------end noise0.1--------------------\n",
            "--------------------start noise0.3--------------------\n",
            "0.6894586894586896\n",
            "0.6983574879227054\n",
            "0.6936574074074074\n",
            "--------------------end noise0.3--------------------\n",
            "--------------------start noise0.6--------------------\n",
            "0.5527065527065527\n",
            "0.5412560386473431\n",
            "0.5553703703703704\n",
            "--------------------end noise0.6--------------------\n"
          ],
          "name": "stdout"
        }
      ]
    },
    {
      "cell_type": "markdown",
      "metadata": {
        "id": "iRqYhKw1rgUp"
      },
      "source": [
        "# <font color='red'>Submission</font>\n",
        "\n",
        "1. Sign up in [Gradescope](https://www.gradescope.com) with proper name and student ID and use the following code to join the class: <font color='green'>**D5372R**</font>\n",
        "2. Fill in your full name (seperated by single spaces) and student ID in the beginning of this notebook.\n",
        "3. After you're done with this notebook, you should do the following:\n",
        "  - Clear all outputs of the notebook.\n",
        "  ![clear all outputs](https://i.ibb.co/y6FrttB/Screen-Shot-2021-03-21-at-01-51-42.png)\n",
        "  - Run all of the cells (if you skipped a question just leave the cell unchanged), and make sure all of your outputs are correct.\n",
        "  ![run all](https://i.ibb.co/cgRcBZ0/Screen-Shot-2021-03-21-at-01-54-58.png)\n",
        "  - Save your notebook.\n",
        "  - If you're using Colab, download your notebook.\n",
        "  ![download ipynb](https://i.ibb.co/2KxYM6K/Screen-Shot-2021-03-21-at-02-03-50.png)\n",
        "  - Put the notebook file you just downloaded and `convert.py` in the same folder run the following command:\n",
        "  ```bash\n",
        "  python convert.py\n",
        "  ```\n",
        "  This will export your code for each question into a `.py` file.\n",
        "    - **Note**: if you want to add more cells, add this to the **first** line of the cell:\n",
        "  ```python\n",
        "  # Q5_graded\n",
        "  ```\n",
        "  according to the question number.\n",
        "  - There are 2 assignments in Gradescope:\n",
        "\n",
        "    ![assignments](https://i.ibb.co/10GMhGM/Screen-Shot-2021-03-21-at-02-16-25.png)\n",
        "  \n",
        "    You should upload your **codes** and your **notebook** in `HW3` section and your final report for all of the questions as a **single pdf** file in `HW3 - Report`. Autograder will automatically check for:\n",
        "    - `CI992_HW3.ipynb`\n",
        "    - `Q1.2.py`\n",
        "    - `Q1.3.py`\n",
        "    - `inverted_pendulum.fcl`\n",
        "    - Your name and ID in the beginning of `.ipynb` file.\n",
        "\n",
        "    It is important that you <font color='red'>**don't**</font> change the names of these files before submission.\n",
        "\n",
        "4. If you pass the autograder, you're good to go."
      ]
    },
    {
      "cell_type": "code",
      "metadata": {
        "id": "8ncvGuBu6f2e"
      },
      "source": [
        ""
      ],
      "execution_count": null,
      "outputs": []
    }
  ]
}